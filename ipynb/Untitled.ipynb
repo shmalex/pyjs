{
 "cells": [
  {
   "cell_type": "code",
   "execution_count": 11,
   "metadata": {},
   "outputs": [],
   "source": [
    "import pandas as pd\n",
    "from lifelines.datasets import load_dd\n",
    "import matplotlib.pyplot as plt\n",
    "data = load_dd()"
   ]
  },
  {
   "cell_type": "code",
   "execution_count": 20,
   "metadata": {},
   "outputs": [],
   "source": [
    "data.to_csv('kme.csv',sep='\\t')"
   ]
  },
  {
   "cell_type": "code",
   "execution_count": 19,
   "metadata": {},
   "outputs": [
    {
     "data": {
      "text/html": [
       "<div>\n",
       "<style scoped>\n",
       "    .dataframe tbody tr th:only-of-type {\n",
       "        vertical-align: middle;\n",
       "    }\n",
       "\n",
       "    .dataframe tbody tr th {\n",
       "        vertical-align: top;\n",
       "    }\n",
       "\n",
       "    .dataframe thead th {\n",
       "        text-align: right;\n",
       "    }\n",
       "</style>\n",
       "<table border=\"1\" class=\"dataframe\">\n",
       "  <thead>\n",
       "    <tr style=\"text-align: right;\">\n",
       "      <th></th>\n",
       "      <th>ctryname</th>\n",
       "      <th>cowcode2</th>\n",
       "      <th>politycode</th>\n",
       "      <th>un_region_name</th>\n",
       "      <th>un_continent_name</th>\n",
       "      <th>ehead</th>\n",
       "      <th>leaderspellreg</th>\n",
       "      <th>democracy</th>\n",
       "      <th>regime</th>\n",
       "      <th>start_year</th>\n",
       "      <th>duration</th>\n",
       "      <th>observed</th>\n",
       "    </tr>\n",
       "  </thead>\n",
       "  <tbody>\n",
       "    <tr>\n",
       "      <th>954</th>\n",
       "      <td>Lithuania</td>\n",
       "      <td>368</td>\n",
       "      <td>368.0</td>\n",
       "      <td>Northern Europe</td>\n",
       "      <td>Europe</td>\n",
       "      <td>Gediminas Vagnorius</td>\n",
       "      <td>Gediminas Vagnorius.Lithuania.1991.1991.Mixed Dem</td>\n",
       "      <td>Democracy</td>\n",
       "      <td>Mixed Dem</td>\n",
       "      <td>1991</td>\n",
       "      <td>1</td>\n",
       "      <td>1</td>\n",
       "    </tr>\n",
       "    <tr>\n",
       "      <th>1365</th>\n",
       "      <td>Senegal</td>\n",
       "      <td>433</td>\n",
       "      <td>433.0</td>\n",
       "      <td>Western Africa</td>\n",
       "      <td>Africa</td>\n",
       "      <td>Abdou Diouf</td>\n",
       "      <td>Abdou Diouf.Senegal.1981.1999.Civilian Dict</td>\n",
       "      <td>Non-democracy</td>\n",
       "      <td>Civilian Dict</td>\n",
       "      <td>1981</td>\n",
       "      <td>19</td>\n",
       "      <td>1</td>\n",
       "    </tr>\n",
       "    <tr>\n",
       "      <th>1418</th>\n",
       "      <td>Somalia</td>\n",
       "      <td>520</td>\n",
       "      <td>520.0</td>\n",
       "      <td>Eastern Africa</td>\n",
       "      <td>Africa</td>\n",
       "      <td>Mohammed Siyad Barreh</td>\n",
       "      <td>Mohammed Siyad Barreh.Somalia.1969.1990.Milita...</td>\n",
       "      <td>Non-democracy</td>\n",
       "      <td>Military Dict</td>\n",
       "      <td>1969</td>\n",
       "      <td>22</td>\n",
       "      <td>1</td>\n",
       "    </tr>\n",
       "    <tr>\n",
       "      <th>229</th>\n",
       "      <td>Bulgaria</td>\n",
       "      <td>355</td>\n",
       "      <td>355.0</td>\n",
       "      <td>Eastern Europe</td>\n",
       "      <td>Europe</td>\n",
       "      <td>Sergey Dimitrievich Stanishev</td>\n",
       "      <td>Sergey Dimitrievich Stanishev.Bulgaria.2005.20...</td>\n",
       "      <td>Democracy</td>\n",
       "      <td>Mixed Dem</td>\n",
       "      <td>2005</td>\n",
       "      <td>4</td>\n",
       "      <td>0</td>\n",
       "    </tr>\n",
       "    <tr>\n",
       "      <th>1043</th>\n",
       "      <td>Mexico</td>\n",
       "      <td>70</td>\n",
       "      <td>70.0</td>\n",
       "      <td>Central America</td>\n",
       "      <td>Americas</td>\n",
       "      <td>Ernesto Zedillo</td>\n",
       "      <td>Ernesto Zedillo.Mexico.1994.1999.Civilian Dict</td>\n",
       "      <td>Non-democracy</td>\n",
       "      <td>Civilian Dict</td>\n",
       "      <td>1994</td>\n",
       "      <td>6</td>\n",
       "      <td>1</td>\n",
       "    </tr>\n",
       "    <tr>\n",
       "      <th>1131</th>\n",
       "      <td>New Zealand</td>\n",
       "      <td>920</td>\n",
       "      <td>920.0</td>\n",
       "      <td>Australia and New Zealand</td>\n",
       "      <td>Oceania</td>\n",
       "      <td>Sidney Holland</td>\n",
       "      <td>Sidney Holland.New Zealand.1949.1956.Parliamen...</td>\n",
       "      <td>Democracy</td>\n",
       "      <td>Parliamentary Dem</td>\n",
       "      <td>1949</td>\n",
       "      <td>8</td>\n",
       "      <td>1</td>\n",
       "    </tr>\n",
       "  </tbody>\n",
       "</table>\n",
       "</div>"
      ],
      "text/plain": [
       "         ctryname  cowcode2  politycode             un_region_name  \\\n",
       "954     Lithuania       368       368.0            Northern Europe   \n",
       "1365      Senegal       433       433.0             Western Africa   \n",
       "1418      Somalia       520       520.0             Eastern Africa   \n",
       "229      Bulgaria       355       355.0             Eastern Europe   \n",
       "1043       Mexico        70        70.0            Central America   \n",
       "1131  New Zealand       920       920.0  Australia and New Zealand   \n",
       "\n",
       "     un_continent_name                          ehead  \\\n",
       "954             Europe            Gediminas Vagnorius   \n",
       "1365            Africa                    Abdou Diouf   \n",
       "1418            Africa          Mohammed Siyad Barreh   \n",
       "229             Europe  Sergey Dimitrievich Stanishev   \n",
       "1043          Americas                Ernesto Zedillo   \n",
       "1131           Oceania                 Sidney Holland   \n",
       "\n",
       "                                         leaderspellreg      democracy  \\\n",
       "954   Gediminas Vagnorius.Lithuania.1991.1991.Mixed Dem      Democracy   \n",
       "1365        Abdou Diouf.Senegal.1981.1999.Civilian Dict  Non-democracy   \n",
       "1418  Mohammed Siyad Barreh.Somalia.1969.1990.Milita...  Non-democracy   \n",
       "229   Sergey Dimitrievich Stanishev.Bulgaria.2005.20...      Democracy   \n",
       "1043     Ernesto Zedillo.Mexico.1994.1999.Civilian Dict  Non-democracy   \n",
       "1131  Sidney Holland.New Zealand.1949.1956.Parliamen...      Democracy   \n",
       "\n",
       "                 regime  start_year  duration  observed  \n",
       "954           Mixed Dem        1991         1         1  \n",
       "1365      Civilian Dict        1981        19         1  \n",
       "1418      Military Dict        1969        22         1  \n",
       "229           Mixed Dem        2005         4         0  \n",
       "1043      Civilian Dict        1994         6         1  \n",
       "1131  Parliamentary Dem        1949         8         1  "
      ]
     },
     "execution_count": 19,
     "metadata": {},
     "output_type": "execute_result"
    }
   ],
   "source": [
    "data.sample(6)\n",
    "#the boolean columns `observed` refers to whether the death (leaving office)\n",
    "#was observed or not."
   ]
  },
  {
   "cell_type": "code",
   "execution_count": 5,
   "metadata": {},
   "outputs": [],
   "source": [
    "from lifelines import KaplanMeierFitter\n",
    "kmf = KaplanMeierFitter()"
   ]
  },
  {
   "cell_type": "code",
   "execution_count": 6,
   "metadata": {},
   "outputs": [
    {
     "ename": "NameError",
     "evalue": "name 'durations' is not defined",
     "output_type": "error",
     "traceback": [
      "\u001b[0;31m---------------------------------------------------------------------------\u001b[0m",
      "\u001b[0;31mNameError\u001b[0m                                 Traceback (most recent call last)",
      "\u001b[0;32m<ipython-input-6-1a2d175e4781>\u001b[0m in \u001b[0;36m<module>\u001b[0;34m()\u001b[0m\n\u001b[0;32m----> 1\u001b[0;31m KaplanMeierFitter.fit(durations, event_observed=None,\n\u001b[0m\u001b[1;32m      2\u001b[0m                       \u001b[0mtimeline\u001b[0m\u001b[0;34m=\u001b[0m\u001b[0;32mNone\u001b[0m\u001b[0;34m,\u001b[0m \u001b[0mentry\u001b[0m\u001b[0;34m=\u001b[0m\u001b[0;32mNone\u001b[0m\u001b[0;34m,\u001b[0m \u001b[0mlabel\u001b[0m\u001b[0;34m=\u001b[0m\u001b[0;34m'KM_estimate'\u001b[0m\u001b[0;34m,\u001b[0m\u001b[0;34m\u001b[0m\u001b[0m\n\u001b[1;32m      3\u001b[0m                       alpha=None, left_censorship=False, ci_labels=None)\n",
      "\u001b[0;31mNameError\u001b[0m: name 'durations' is not defined"
     ]
    }
   ],
   "source": [
    "KaplanMeierFitter.fit(durations, event_observed=None,\n",
    "                      timeline=None, entry=None, label='KM_estimate',\n",
    "                      alpha=None, left_censorship=False, ci_labels=None)"
   ]
  },
  {
   "cell_type": "code",
   "execution_count": 7,
   "metadata": {},
   "outputs": [
    {
     "data": {
      "text/plain": [
       "<lifelines.KaplanMeierFitter: fitted with 1808 observations, 340 censored>"
      ]
     },
     "execution_count": 7,
     "metadata": {},
     "output_type": "execute_result"
    }
   ],
   "source": [
    "T = data[\"duration\"]\n",
    "E = data[\"observed\"]\n",
    "\n",
    "kmf.fit(T, event_observed=E)"
   ]
  },
  {
   "cell_type": "code",
   "execution_count": 13,
   "metadata": {},
   "outputs": [
    {
     "data": {
      "image/png": "[encoded data removed]",
      "text/plain": [
       "<matplotlib.figure.Figure at 0x7fb58e8b87f0>"
      ]
     },
     "metadata": {},
     "output_type": "display_data"
    }
   ],
   "source": [
    "kmf.survival_function_.plot()\n",
    "plt.title('Survival function of political regimes');"
   ]
  },
  {
   "cell_type": "code",
   "execution_count": 18,
   "metadata": {},
   "outputs": [
    {
     "data": {
      "image/png": "[encoded data removed]",
      "text/plain": [
       "<matplotlib.figure.Figure at 0x7fb58c9db390>"
      ]
     },
     "metadata": {},
     "output_type": "display_data"
    }
   ],
   "source": [
    "ax = kmf.plot()\n",
    "plt.savefig('chart')"
   ]
  },
  {
   "cell_type": "code",
   "execution_count": null,
   "metadata": {},
   "outputs": [],
   "source": []
  }
 ],
 "metadata": {
  "kernelspec": {
   "display_name": "Python3.5",
   "language": "python",
   "name": "python3.5"
  },
  "language_info": {
   "codemirror_mode": {
    "name": "ipython",
    "version": 3
   },
   "file_extension": ".py",
   "mimetype": "text/x-python",
   "name": "python",
   "nbconvert_exporter": "python",
   "pygments_lexer": "ipython3",
   "version": "3.6.4"
  }
 },
 "nbformat": 4,
 "nbformat_minor": 2
}
